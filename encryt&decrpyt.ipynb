{
 "cells": [
  {
   "cell_type": "code",
   "execution_count": 1,
   "id": "bb834195",
   "metadata": {},
   "outputs": [
    {
     "name": "stdout",
     "output_type": "stream",
     "text": [
      "Data encrypted and saved to encrypted_data.txt\n",
      "Data decrypted and saved to decrypted_data.txt\n"
     ]
    }
   ],
   "source": [
    "from cryptography.fernet import Fernet\n",
    "\n",
    "# Generate a random encryption key or use an existing key\n",
    "key = Fernet.generate_key()\n",
    "\n",
    "# Create a Fernet object with the key\n",
    "cipher_suite = Fernet(key)\n",
    "\n",
    "# Read data from a text file\n",
    "with open('input.txt.txt', 'rb') as file:\n",
    "    data_to_encrypt = file.read()\n",
    "\n",
    "# Encrypt the data\n",
    "encrypted_data = cipher_suite.encrypt(data_to_encrypt)\n",
    "\n",
    "# Write the encrypted data to a new file\n",
    "with open('encrypted_data.txt', 'wb') as file:\n",
    "    file.write(encrypted_data)\n",
    "\n",
    "print(\"Data encrypted and saved to encrypted_data.txt\")\n",
    "\n",
    "# Decrypt the data\n",
    "decrypted_data = cipher_suite.decrypt(encrypted_data)\n",
    "\n",
    "# Write the decrypted data to a new file\n",
    "with open('decrypted_data.txt', 'wb') as file:\n",
    "    file.write(decrypted_data)\n",
    "\n",
    "print(\"Data decrypted and saved to decrypted_data.txt\")\n"
   ]
  },
  {
   "cell_type": "code",
   "execution_count": null,
   "id": "967faeb5",
   "metadata": {},
   "outputs": [],
   "source": []
  }
 ],
 "metadata": {
  "kernelspec": {
   "display_name": "Python 3 (ipykernel)",
   "language": "python",
   "name": "python3"
  },
  "language_info": {
   "codemirror_mode": {
    "name": "ipython",
    "version": 3
   },
   "file_extension": ".py",
   "mimetype": "text/x-python",
   "name": "python",
   "nbconvert_exporter": "python",
   "pygments_lexer": "ipython3",
   "version": "3.9.13"
  }
 },
 "nbformat": 4,
 "nbformat_minor": 5
}
